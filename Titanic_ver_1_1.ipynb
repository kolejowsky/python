{
  "nbformat": 4,
  "nbformat_minor": 0,
  "metadata": {
    "colab": {
      "provenance": []
    },
    "kernelspec": {
      "name": "python3",
      "display_name": "Python 3"
    },
    "language_info": {
      "name": "python"
    }
  },
  "cells": [
    {
      "cell_type": "code",
      "execution_count": 1,
      "metadata": {
        "id": "6A0dAv4qTko4"
      },
      "outputs": [],
      "source": [
        "import pandas as pd\n",
        "import matplotlib.pyplot as plt"
      ]
    },
    {
      "cell_type": "code",
      "source": [
        "#odczytanie dancyh\n",
        "\n",
        "titanic_data = pd.read_csv(\"train.csv\")"
      ],
      "metadata": {
        "id": "mzZQ1OCZVt1J"
      },
      "execution_count": 2,
      "outputs": []
    },
    {
      "cell_type": "code",
      "source": [
        "'''\n",
        "import seaborn as sb\n",
        "\n",
        "#zbadanie zależności\n",
        "\n",
        "sb.heatmap(titanic_data.corr(), cmap=\"YlGnBu\")\n",
        "plt.show()\n",
        "'''"
      ],
      "metadata": {
        "colab": {
          "base_uri": "https://localhost:8080/",
          "height": 52
        },
        "id": "uf3aDc6mWKqX",
        "outputId": "716894cf-0fb0-4178-8afa-d32d9082fc43"
      },
      "execution_count": 3,
      "outputs": [
        {
          "output_type": "execute_result",
          "data": {
            "text/plain": [
              "'\\nimport seaborn as sb\\n\\n#zbadanie zależności\\n\\nsb.heatmap(titanic_data.corr(), cmap=\"YlGnBu\")\\nplt.show()\\n'"
            ],
            "application/vnd.google.colaboratory.intrinsic+json": {
              "type": "string"
            }
          },
          "metadata": {},
          "execution_count": 3
        }
      ]
    },
    {
      "cell_type": "code",
      "source": [
        "from sklearn.model_selection import StratifiedShuffleSplit\n",
        "\n",
        "#podzielenie zbioru na uczący i testujący z równo podzielonymi atrybutami przeżywalności, statusu społecznego, płci\n",
        "split = StratifiedShuffleSplit(n_splits=1, test_size=0.2)\n",
        "for train_indices, test_indices in split.split(titanic_data, titanic_data[[\"Survived\", \"Pclass\", \"Sex\"]]):\n",
        "  train_set = titanic_data.loc[train_indices]\n",
        "  test_set = titanic_data.loc[test_indices]"
      ],
      "metadata": {
        "id": "MHs_jXwUbPE8"
      },
      "execution_count": 4,
      "outputs": []
    },
    {
      "cell_type": "code",
      "source": [
        "#sprawdzenie czy podzielono właściwie\n",
        "\n",
        "plt.subplot(2,2,1)\n",
        "train_set['Survived'].hist()\n",
        "\n",
        "plt.subplot(2,2,2)\n",
        "train_set['Pclass'].hist()\n",
        "\n",
        "plt.subplot(2,2,3)\n",
        "test_set['Survived'].hist()\n",
        "\n",
        "plt.subplot(2,2,4)\n",
        "test_set['Pclass'].hist()"
      ],
      "metadata": {
        "colab": {
          "base_uri": "https://localhost:8080/",
          "height": 285
        },
        "id": "7sLcokdzd4WW",
        "outputId": "db360c92-8b05-423d-e035-abeebcef39ff"
      },
      "execution_count": 5,
      "outputs": [
        {
          "output_type": "execute_result",
          "data": {
            "text/plain": [
              "<AxesSubplot:>"
            ]
          },
          "metadata": {},
          "execution_count": 5
        },
        {
          "output_type": "display_data",
          "data": {
            "text/plain": [
              "<Figure size 432x288 with 4 Axes>"
            ],
            "image/png": "[encoded data removed]"
          },
          "metadata": {
            "needs_background": "light"
          }
        }
      ]
    },
    {
      "cell_type": "code",
      "source": [
        "from sklearn.base import BaseEstimator, TransformerMixin\n",
        "from sklearn.impute import SimpleImputer\n",
        "\n",
        "#zastąpienie brakujących wartości wieku wartością średnią\n",
        "class AgeImputer(BaseEstimator, TransformerMixin):\n",
        "\n",
        "  def fit(self, X, y=\"none\"):\n",
        "    return self\n",
        "  \n",
        "  def transform(self, X):\n",
        "    imputer = SimpleImputer(strategy=\"mean\")\n",
        "    X['Age'] = imputer.fit_transform(X[['Age']])\n",
        "    return X"
      ],
      "metadata": {
        "id": "1tdWEubWfNVM"
      },
      "execution_count": 6,
      "outputs": []
    },
    {
      "cell_type": "code",
      "source": [
        "#zamiana pola Embarked oznaczającego miasto w którym wsiadła dana osoba \n",
        "#oraz pola Sex\n",
        "#z litery na wartości biarne w postaci macierzy (kilka kolumn)\n",
        "\n",
        "from sklearn.preprocessing import OneHotEncoder\n",
        "\n",
        "class FeatureEncoder(BaseEstimator, TransformerMixin):\n",
        "  def fit(self, X, y=\"none\"):\n",
        "    return self\n",
        "  \n",
        "  def transform(self, X, y=None):\n",
        "    encoder = OneHotEncoder()\n",
        "    matrix = encoder.fit_transform(X[['Embarked']]).toarray()\n",
        "\n",
        "    column_names = [\"C\", \"S\", \"Q\", \"N\"]\n",
        "\n",
        "    for i in range(len(matrix.T)):\n",
        "      X[column_names[i]] = matrix.T[i]\n",
        "\n",
        "    matrix = encoder.fit_transform(X[['Sex']]).toarray()\n",
        "\n",
        "    columnes_names = [\"Female\", \"Male\"]\n",
        "    \n",
        "    for i in range(len(matrix.T)):\n",
        "      X[column_names[i]] = matrix.T[i]\n",
        "    \n",
        "    return X"
      ],
      "metadata": {
        "id": "WMM6XLtBizYB"
      },
      "execution_count": 7,
      "outputs": []
    },
    {
      "cell_type": "code",
      "source": [
        "#usuwanie nieistotnych kolumn lub wczesniej zmodyfikowanych (rozbitych)\n",
        "\n",
        "class FeatureDropper(BaseEstimator, TransformerMixin):\n",
        "\n",
        "  def fit(self, X, y=\"none\"):\n",
        "    return self\n",
        "\n",
        "  def transform(self, X):\n",
        "    return X.drop([\"PassengerID\",\"Embarked\", \"Name\", \"Ticket\", \"Cabin\", \"Sex\", \"N\"], axis=1, errors = \"ignore\")"
      ],
      "metadata": {
        "id": "0i_3SH0zpTpW"
      },
      "execution_count": 8,
      "outputs": []
    },
    {
      "cell_type": "code",
      "source": [
        "#utworzenie pipelinu z preprocessingiem \n",
        "\n",
        "from sklearn.pipeline import Pipeline\n",
        "\n",
        "pipeline = Pipeline([(\"ageimputer\", AgeImputer()),\n",
        "                     (\"featureencoder\", FeatureEncoder()),\n",
        "                     (\"featuredropper\", FeatureDropper())])"
      ],
      "metadata": {
        "id": "xEvPaNRQqbv5"
      },
      "execution_count": 9,
      "outputs": []
    },
    {
      "cell_type": "code",
      "source": [
        "#preprocessing danych treningowych\n",
        "\n",
        "train_set = pipeline.fit_transform(train_set)"
      ],
      "metadata": {
        "id": "PCi9nxzws4yo"
      },
      "execution_count": 10,
      "outputs": []
    },
    {
      "cell_type": "code",
      "source": [
        "#normalizacja danych\n",
        "\n",
        "from sklearn.preprocessing import StandardScaler\n",
        "\n",
        "#rozdzielenie przygotowanego setu na wejscie i wyjscie\n",
        "X = train_set.drop(['Survived'], axis= 1)\n",
        "y = train_set['Survived']\n",
        "\n",
        "scaler = StandardScaler()\n",
        "X_data = scaler.fit_transform(X)\n",
        "Y_data = y.to_numpy()"
      ],
      "metadata": {
        "id": "5Bv_8i43R6xu"
      },
      "execution_count": 11,
      "outputs": []
    },
    {
      "cell_type": "code",
      "source": [
        "def models(X_data, Y_data):\n",
        "  #regresja logistyczna\n",
        "  from sklearn.linear_model import LogisticRegression\n",
        "  log = LogisticRegression(random_state = 0)\n",
        "  log.fit(X_data, Y_data)\n",
        "\n",
        "  #KNeighbors\n",
        "  # ilosc sasiadow, metryka, potega\n",
        "  from sklearn.neighbors import KNeighborsClassifier\n",
        "  knn = KNeighborsClassifier(n_neighbors=5, metric = 'minkowski', p=2)\n",
        "  knn.fit(X_data, Y_data)\n",
        "\n",
        "  #Support Vector Machine - linear\n",
        "  #algorytm liczenia, parametr startowy generatora startowego\n",
        "  from sklearn.svm import SVC\n",
        "  svc_lin = SVC(kernel = 'linear', random_state = 0)\n",
        "  svc_lin.fit(X_data, Y_data)\n",
        "\n",
        "  #Support Vector Machine - RBF\n",
        "  #algorytm liczenia, parametr startowy generatora startowego\n",
        "  from sklearn.svm import SVC\n",
        "  svc_rbf = SVC(kernel = 'rbf', random_state = 0)\n",
        "  svc_rbf.fit(X_data, Y_data)\n",
        "\n",
        "  #GaussianNB\n",
        "  from sklearn.naive_bayes import GaussianNB\n",
        "  gauss = GaussianNB()\n",
        "  gauss.fit(X_data, Y_data)\n",
        "\n",
        "  #Drzewo decyzyjne\n",
        "  from sklearn.tree import DecisionTreeClassifier\n",
        "  tree = DecisionTreeClassifier(criterion = 'entropy', random_state =0 )\n",
        "  tree.fit(X_data, Y_data)\n",
        "\n",
        "  #Losowy las decyzyjny\n",
        "  from sklearn.ensemble import RandomForestClassifier\n",
        "  forest = RandomForestClassifier(n_estimators=10, criterion='entropy', random_state=0)\n",
        "  forest.fit(X_data, Y_data)\n",
        "\n",
        " \n",
        "\n",
        "  return log, knn, svc_lin, svc_rbf, gauss, tree, forest"
      ],
      "metadata": {
        "id": "FF1c_Fqf97Ra"
      },
      "execution_count": 12,
      "outputs": []
    },
    {
      "cell_type": "code",
      "source": [
        "model = models(X_data, Y_data)"
      ],
      "metadata": {
        "id": "tAtxz4YYDsEQ"
      },
      "execution_count": 13,
      "outputs": []
    },
    {
      "cell_type": "code",
      "source": [
        "#dokladnosc modeli na zbiorze uczacym\n",
        "\n",
        "lr_test_acc = model[0].score(X_data, Y_data)\n",
        "print('Logistic Regression Acc: ', end=\"\")\n",
        "print(lr_test_acc)\n",
        "\n",
        "knn_test_acc = model[1].score(X_data, Y_data)\n",
        "print('KNeighbors Acc: ',end=\"\")\n",
        "print(knn_test_acc)\n",
        "\n",
        "svc_lin_test_acc = model[2].score(X_data, Y_data)\n",
        "print('SVC - Linear Acc: ',end=\"\")\n",
        "print(svc_lin_test_acc)\n",
        "\n",
        "svc_rbf_test_acc = model[3].score(X_data, Y_data)\n",
        "print('SVC - rbf Acc: ',end=\"\")\n",
        "print(svc_rbf_test_acc)\n",
        "\n",
        "gauss_test_acc = model[4].score(X_data, Y_data)\n",
        "print('Gaussian Acc', end=\"\")\n",
        "print(gauss_test_acc)\n",
        "\n",
        "dt_test_acc = model[5].score(X_data, Y_data)\n",
        "print('Decision Tree Acc: ',end=\"\")\n",
        "print(dt_test_acc)\n",
        "\n",
        "rfc_test_acc = model[6].score(X_data,Y_data)\n",
        "print('Random Forest Acc: ',end=\"\")\n",
        "print(rfc_test_acc)  \n"
      ],
      "metadata": {
        "colab": {
          "base_uri": "https://localhost:8080/"
        },
        "id": "76NJLpUEEl8w",
        "outputId": "03c47cfa-6fb4-4c60-e0bd-cda507892027"
      },
      "execution_count": 14,
      "outputs": [
        {
          "output_type": "stream",
          "name": "stdout",
          "text": [
            "Logistic Regression Acc: 0.7935393258426966\n",
            "KNeighbors Acc: 0.8721910112359551\n",
            "SVC - Linear Acc: 0.7865168539325843\n",
            "SVC - rbf Acc: 0.8539325842696629\n",
            "Gaussian Acc0.7963483146067416\n",
            "Decision Tree Acc: 1.0\n",
            "Random Forest Acc: 0.9831460674157303\n"
          ]
        }
      ]
    },
    {
      "cell_type": "code",
      "source": [
        "#preprocessing danych przeznaczonych do testowania\n",
        "test_set = pipeline.fit_transform(test_set)"
      ],
      "metadata": {
        "id": "TYArdma0cYaH"
      },
      "execution_count": 15,
      "outputs": []
    },
    {
      "cell_type": "code",
      "source": [
        "#normalizacja danych testowych\n",
        "\n",
        "#rozdzielenie danych testowych\n",
        "X_test = test_set.drop(['Survived'], axis= 1)\n",
        "Y_test = test_set['Survived']\n",
        "\n",
        "scaler = StandardScaler()\n",
        "X_test_data = scaler.fit_transform(X_test)\n",
        "Y_test_data = Y_test.to_numpy()\n"
      ],
      "metadata": {
        "id": "wxlsiVWcgeA6"
      },
      "execution_count": 16,
      "outputs": []
    },
    {
      "cell_type": "code",
      "source": [
        "#tablice przewidywań dla danych modeli\n",
        "\n",
        "lr_predictions = model[0].predict(X_test_data)\n",
        "knn_predictions = model[1].predict(X_test_data)\n",
        "svc_lin_predictions = model[2].predict(X_test_data)\n",
        "svc_rfb_predictions = model[3].predict(X_test_data)\n",
        "gauss_predictions = model[4].predict(X_test_data)\n",
        "dt_predictions = model[5].predict(X_test_data)\n",
        "rfc_predictions = model[6].predict(X_test_data)\n"
      ],
      "metadata": {
        "id": "-nLv4d8FGv7B"
      },
      "execution_count": 17,
      "outputs": []
    },
    {
      "cell_type": "code",
      "source": [
        "#Macierz pomyłek \n",
        "'''\n",
        "TP FP\n",
        "FN TN\n",
        "'''\n",
        "from sklearn.metrics import confusion_matrix\n",
        "\n",
        "lr_cm = confusion_matrix(Y_test_data, lr_predictions)\n",
        "print(\"logistic regression:\")\n",
        "print(lr_cm)\n",
        "print(\"\") \n",
        "\n",
        "knn_cm = confusion_matrix(Y_test_data, knn_predictions)\n",
        "print(\"KNearest Neighbor:\")\n",
        "print(knn_cm) \n",
        "print(\"\") \n",
        "\n",
        "svc_lin_cm = confusion_matrix(Y_test_data, svc_lin_predictions)\n",
        "print(\"SVC linnear\")\n",
        "print(svc_lin_cm) \n",
        "print(\"\") \n",
        "\n",
        "svc_rfb_cm = confusion_matrix(Y_test_data, svc_rfb_predictions)\n",
        "print(\"SVC RFB\")\n",
        "print(svc_rfb_cm) \n",
        "print(\"\") \n",
        "\n",
        "gauss_cm = confusion_matrix(Y_test_data, gauss_predictions)\n",
        "print(\"GaussNB\")\n",
        "print(gauss_cm)\n",
        "print(\"\") \n",
        "\n",
        "dt_cm = confusion_matrix(Y_test_data, dt_predictions)\n",
        "print(\"Decision Tree\")\n",
        "print(dt_cm)\n",
        "print(\"\") \n",
        "\n",
        "rfc_cm = confusion_matrix(Y_test_data, rfc_predictions)\n",
        "print(\"Random Forest\")\n",
        "print(rfc_cm)\n",
        "print(\"\") \n"
      ],
      "metadata": {
        "colab": {
          "base_uri": "https://localhost:8080/"
        },
        "id": "x_mF3HsBCjEO",
        "outputId": "1c85b386-d1ae-44af-cc02-c2df8c9af14b"
      },
      "execution_count": 18,
      "outputs": [
        {
          "output_type": "stream",
          "name": "stdout",
          "text": [
            "logistic regression:\n",
            "[[94 17]\n",
            " [18 50]]\n",
            "\n",
            "KNearest Neighbor:\n",
            "[[96 15]\n",
            " [24 44]]\n",
            "\n",
            "SVC linnear\n",
            "[[94 17]\n",
            " [21 47]]\n",
            "\n",
            "SVC RFB\n",
            "[[102   9]\n",
            " [ 28  40]]\n",
            "\n",
            "GaussNB\n",
            "[[93 18]\n",
            " [18 50]]\n",
            "\n",
            "Decision Tree\n",
            "[[87 24]\n",
            " [19 49]]\n",
            "\n",
            "Random Forest\n",
            "[[99 12]\n",
            " [19 49]]\n",
            "\n"
          ]
        }
      ]
    },
    {
      "cell_type": "code",
      "source": [
        "#wyliczenie dokladnosci dla zbioru testowego\n",
        "\n",
        "lr_acc = model[0].score(X_test_data, Y_test_data)\n",
        "print('Logistic Regression Acc: ',end=\"\") \n",
        "print(lr_acc)\n",
        "\n",
        "knn_acc = model[1].score(X_test_data, Y_test_data)\n",
        "print('KNeighbors Acc: ',end=\"\")\n",
        "print(knn_acc)\n",
        "\n",
        "svc_lin_acc = model[2].score(X_test_data, Y_test_data)\n",
        "print('SVC - Linear Acc: ',end=\"\") \n",
        "print(svc_lin_acc)\n",
        "\n",
        "svc_rbf_acc = model[3].score(X_test_data, Y_test_data)\n",
        "print('SVC - rbf Acc: ',end=\"\") \n",
        "print(svc_rbf_acc)\n",
        "\n",
        "gauss_acc = model[4].score(X_test_data, Y_test_data)\n",
        "print('Gaussian Acc',end=\"\") \n",
        "print(gauss_acc)\n",
        "\n",
        "dt_acc = model[5].score(X_test_data, Y_test_data)\n",
        "print('Decision Tree Acc: ',end=\"\") \n",
        "print(dt_acc)\n",
        "\n",
        "rfc_acc = model[6].score(X_test_data, Y_test_data)\n",
        "print('Random Forest Acc: ',end=\"\") \n",
        "print(rfc_acc)\n"
      ],
      "metadata": {
        "colab": {
          "base_uri": "https://localhost:8080/"
        },
        "id": "_TMB336yhohG",
        "outputId": "508f7e72-5ba4-4653-c566-5cd32006f878"
      },
      "execution_count": 19,
      "outputs": [
        {
          "output_type": "stream",
          "name": "stdout",
          "text": [
            "Logistic Regression Acc: 0.8044692737430168\n",
            "KNeighbors Acc: 0.7821229050279329\n",
            "SVC - Linear Acc: 0.7877094972067039\n",
            "SVC - rbf Acc: 0.7932960893854749\n",
            "Gaussian Acc0.7988826815642458\n",
            "Decision Tree Acc: 0.7597765363128491\n",
            "Random Forest Acc: 0.8268156424581006\n"
          ]
        }
      ]
    },
    {
      "cell_type": "code",
      "source": [
        "#stworzenie tabeli przechowującej ID pasażera informacje o przeżyciu oraz przewidywanie\n",
        "\n",
        "result = pd.DataFrame(test_set[['PassengerId','Survived']])\n",
        "result['LR Prediction'] = lr_predictions\n",
        "result['KNN Prediction'] = knn_predictions\n",
        "result['SVC_lin Prediction'] = svc_lin_predictions\n",
        "result['SVC_rfb Prediction'] = svc_rfb_predictions\n",
        "result['Gauss Prediction'] = gauss_predictions\n",
        "result['DT Prediction'] = dt_predictions\n",
        "result['RFC Prediction'] = rfc_predictions\n",
        "\n",
        "result = result.sort_values(by='PassengerId', ascending=True)\n",
        "\n",
        "result = result.reset_index(drop=True)"
      ],
      "metadata": {
        "id": "BSc4aFEqlWIL"
      },
      "execution_count": 20,
      "outputs": []
    },
    {
      "cell_type": "code",
      "source": [
        "#result.to_csv('titanic.csv', index = False)\n",
        "print(result)"
      ],
      "metadata": {
        "colab": {
          "base_uri": "https://localhost:8080/"
        },
        "id": "m1Sgxolvlyjt",
        "outputId": "24030ccf-4382-41ba-8def-df76d70e6ba7"
      },
      "execution_count": 21,
      "outputs": [
        {
          "output_type": "stream",
          "name": "stdout",
          "text": [
            "     PassengerId  Survived  LR Prediction  KNN Prediction  SVC_lin Prediction  \\\n",
            "0              4         1              1               1                   1   \n",
            "1              9         1              1               1                   1   \n",
            "2             13         0              0               0                   0   \n",
            "3             16         1              0               1                   1   \n",
            "4             17         0              0               0                   0   \n",
            "..           ...       ...            ...             ...                 ...   \n",
            "174          878         0              0               0                   0   \n",
            "175          879         0              0               0                   0   \n",
            "176          883         0              1               1                   1   \n",
            "177          890         1              1               1                   0   \n",
            "178          891         0              0               0                   0   \n",
            "\n",
            "     SVC_rfb Prediction  Gauss Prediction  DT Prediction  RFC Prediction  \n",
            "0                     1                 1              1               1  \n",
            "1                     0                 1              1               1  \n",
            "2                     0                 0              0               0  \n",
            "3                     1                 1              1               1  \n",
            "4                     0                 0              0               0  \n",
            "..                  ...               ...            ...             ...  \n",
            "174                   0                 0              0               0  \n",
            "175                   0                 0              0               0  \n",
            "176                   1                 1              1               1  \n",
            "177                   0                 0              0               0  \n",
            "178                   0                 0              0               0  \n",
            "\n",
            "[179 rows x 9 columns]\n"
          ]
        }
      ]
    }
  ]
}